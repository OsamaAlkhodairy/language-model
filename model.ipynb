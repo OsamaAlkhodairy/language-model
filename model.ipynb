{
 "cells": [
  {
   "cell_type": "code",
   "execution_count": 128,
   "id": "ba1b23a2-abf1-4326-8146-ff7ad316f624",
   "metadata": {},
   "outputs": [],
   "source": [
    "import torch\n",
    "import torch.nn as nn\n",
    "from torch.nn import functional as F"
   ]
  },
  {
   "cell_type": "code",
   "execution_count": 129,
   "id": "239a3f71-2786-40db-9cff-dafbfd2e0ab5",
   "metadata": {},
   "outputs": [],
   "source": [
    "with open('input.txt', 'r') as f:\n",
    "    text = f.read()\n"
   ]
  },
  {
   "cell_type": "code",
   "execution_count": 130,
   "id": "bf7fc505-46a5-403b-bea4-75e15c94c1ab",
   "metadata": {},
   "outputs": [
    {
     "name": "stdout",
     "output_type": "stream",
     "text": [
      "1115433\n",
      "First Citizen:\n",
      "Before we proceed any further, hear me speak.\n",
      "\n",
      "All:\n",
      "Speak, speak.\n",
      "\n",
      "First Citizen:\n",
      "You\n"
     ]
    }
   ],
   "source": [
    "print(len(text))\n",
    "print(text[:100])"
   ]
  },
  {
   "cell_type": "code",
   "execution_count": 133,
   "id": "728c29b2-6f32-4f56-b5d1-c9c535c588a2",
   "metadata": {},
   "outputs": [],
   "source": [
    "chars = sorted(list(set(''.join(text))))\n",
    "vocab_size = len(chars)"
   ]
  },
  {
   "cell_type": "code",
   "execution_count": 134,
   "id": "29936ee8-d920-40b5-9d4f-1f2be046e7ed",
   "metadata": {},
   "outputs": [],
   "source": [
    "stoi = {s:i for i, s in enumerate(chars)}\n",
    "itos = {i:s for s, i in stoi.items()}\n",
    "\n",
    "encode = lambda s: [stoi[c] for c in s]\n",
    "decode = lambda l: ''.join(itos[i] for i in l)"
   ]
  },
  {
   "cell_type": "code",
   "execution_count": 135,
   "id": "314f27da-502a-44cf-9ba9-7f6980ad9d38",
   "metadata": {},
   "outputs": [],
   "source": [
    "data = torch.tensor(encode(text), dtype=torch.long)"
   ]
  },
  {
   "cell_type": "code",
   "execution_count": 136,
   "id": "9c37bd3a-7f39-497e-a9df-03a9aa701853",
   "metadata": {},
   "outputs": [
    {
     "name": "stdout",
     "output_type": "stream",
     "text": [
      "torch.Size([1115433])\n"
     ]
    }
   ],
   "source": [
    "print(data.shape)"
   ]
  },
  {
   "cell_type": "code",
   "execution_count": 137,
   "id": "1dfa66c9-ba1d-4715-88f3-7a0e2ea203a1",
   "metadata": {},
   "outputs": [],
   "source": [
    "n = int(0.9 * len(data))\n",
    "train_data = data[:n]\n",
    "val_data = data[n:]"
   ]
  },
  {
   "cell_type": "code",
   "execution_count": 188,
   "id": "be52a19f-cad3-4f77-971c-5536a252429c",
   "metadata": {},
   "outputs": [],
   "source": [
    "block_size = 8\n",
    "batch_size = 4\n",
    "embed_dim = 32\n",
    "learning_rate = 1e-3\n",
    "max_iters = 10000\n",
    "eval_interval = 1000\n",
    "eval_iters = 1000"
   ]
  },
  {
   "cell_type": "code",
   "execution_count": 189,
   "id": "6af6de41-8a3b-4aa7-b1a0-f0fbf85c7eff",
   "metadata": {},
   "outputs": [],
   "source": [
    "def get_batch(split):\n",
    "    data = {\n",
    "        'train': train_data,\n",
    "        'val': val_data}[split]\n",
    "\n",
    "    ix = torch.randint(0, len(data) - block_size, (batch_size,))\n",
    "    x = torch.stack([data[i:i+block_size] for i in ix])\n",
    "    y = torch.stack([data[i+1:i+block_size+1] for i in ix])\n",
    "\n",
    "    return x, y"
   ]
  },
  {
   "cell_type": "code",
   "execution_count": 190,
   "id": "2e2766e8-7926-43f3-94f1-b52a0ade261a",
   "metadata": {},
   "outputs": [],
   "source": [
    "class LanguageModel(nn.Module):\n",
    "    def __init__(self):\n",
    "        super().__init__()\n",
    "        self.token_embedding = nn.Embedding(vocab_size, embed_dim)\n",
    "        self.lm_head = nn.Linear(embed_dim, vocab_size)\n",
    "\n",
    "    def forward(self, inp, targets):\n",
    "        token_emb = self.token_embedding(inp)\n",
    "\n",
    "        x = self.lm_head(token_emb)\n",
    "        \n",
    "        logits = x\n",
    "\n",
    "        B, T, C = logits.shape\n",
    "        logits = logits.view(B * T, C)\n",
    "        targets = targets.view(B * T)\n",
    "\n",
    "        loss = F.cross_entropy(logits, targets)\n",
    "\n",
    "        return logits, loss"
   ]
  },
  {
   "cell_type": "code",
   "execution_count": 191,
   "id": "63a9afaa-bfff-428b-9a2a-43acf105658c",
   "metadata": {},
   "outputs": [],
   "source": [
    "model = LanguageModel()\n",
    "optimizer = torch.optim.AdamW(model.parameters(), lr=learning_rate)"
   ]
  },
  {
   "cell_type": "code",
   "execution_count": 184,
   "id": "91c38bc7-047c-4501-adde-abb07644f736",
   "metadata": {},
   "outputs": [],
   "source": [
    "@torch.no_grad()\n",
    "def eval_loss(split):\n",
    "    losses = torch.zeros(eval_iters)\n",
    "    for i in range(eval_iters):\n",
    "        xb, yb = get_batch(split)\n",
    "\n",
    "        logits, loss = model(xb, yb)\n",
    "        losses[i] = loss.item()\n",
    "    \n",
    "    return losses.mean()"
   ]
  },
  {
   "cell_type": "code",
   "execution_count": 186,
   "id": "36cedd25-868d-4382-bbec-4b738498b30c",
   "metadata": {},
   "outputs": [
    {
     "name": "stdout",
     "output_type": "stream",
     "text": [
      "train loss: 2.489543914794922, val_loss: 2.5156710147857666\n",
      "train loss: 2.4857606887817383, val_loss: 2.519871234893799\n",
      "train loss: 2.487074136734009, val_loss: 2.525416612625122\n",
      "train loss: 2.4808971881866455, val_loss: 2.5102148056030273\n",
      "train loss: 2.4880311489105225, val_loss: 2.5155980587005615\n",
      "train loss: 2.4919447898864746, val_loss: 2.5184643268585205\n",
      "train loss: 2.4774417877197266, val_loss: 2.508772611618042\n",
      "train loss: 2.4921562671661377, val_loss: 2.5196874141693115\n",
      "train loss: 2.4776790142059326, val_loss: 2.513535737991333\n",
      "train loss: 2.4792416095733643, val_loss: 2.500910758972168\n"
     ]
    }
   ],
   "source": [
    "for steps in range(max_iters):\n",
    "    if steps % eval_interval == 0:\n",
    "        print(f\"train loss: {eval_loss('train')}, val_loss: {eval_loss('val')}\")\n",
    "    \n",
    "    xb, yb = get_batch('train')\n",
    "    \n",
    "    logits, loss = model(xb, yb)\n",
    "    optimizer.zero_grad(set_to_none=True)\n",
    "    loss.backward()\n",
    "    optimizer.step()"
   ]
  },
  {
   "cell_type": "code",
   "execution_count": 187,
   "id": "81f5adeb-9386-488a-909d-8a5b7428169c",
   "metadata": {},
   "outputs": [
    {
     "data": {
      "text/plain": [
       "tensor(2.4994)"
      ]
     },
     "execution_count": 187,
     "metadata": {},
     "output_type": "execute_result"
    }
   ],
   "source": [
    "eval_loss('val')"
   ]
  },
  {
   "cell_type": "code",
   "execution_count": null,
   "id": "4d402946-8044-4f1d-8d0e-bc97fd4ec798",
   "metadata": {},
   "outputs": [],
   "source": []
  }
 ],
 "metadata": {
  "kernelspec": {
   "display_name": "Python 3 (ipykernel)",
   "language": "python",
   "name": "python3"
  },
  "language_info": {
   "codemirror_mode": {
    "name": "ipython",
    "version": 3
   },
   "file_extension": ".py",
   "mimetype": "text/x-python",
   "name": "python",
   "nbconvert_exporter": "python",
   "pygments_lexer": "ipython3",
   "version": "3.10.12"
  }
 },
 "nbformat": 4,
 "nbformat_minor": 5
}
