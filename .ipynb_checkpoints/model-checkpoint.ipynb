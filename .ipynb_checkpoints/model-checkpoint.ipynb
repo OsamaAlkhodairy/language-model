{
 "cells": [
  {
   "cell_type": "code",
   "execution_count": 1,
   "id": "ba1b23a2-abf1-4326-8146-ff7ad316f624",
   "metadata": {},
   "outputs": [],
   "source": [
    "import torch\n",
    "import torch.nn as nn\n",
    "from torch.nn import functional as F"
   ]
  },
  {
   "cell_type": "code",
   "execution_count": 2,
   "id": "239a3f71-2786-40db-9cff-dafbfd2e0ab5",
   "metadata": {},
   "outputs": [],
   "source": [
    "with open('input.txt', 'r') as f:\n",
    "    text = f.read()\n"
   ]
  },
  {
   "cell_type": "code",
   "execution_count": 3,
   "id": "bf7fc505-46a5-403b-bea4-75e15c94c1ab",
   "metadata": {},
   "outputs": [
    {
     "name": "stdout",
     "output_type": "stream",
     "text": [
      "217139351\n",
      "\n",
      "\n",
      "April\n",
      "April is the fourth month of the year in the Julian and Gregorian calendars, and comes betwe\n"
     ]
    }
   ],
   "source": [
    "print(len(text))\n",
    "print(text[:100])"
   ]
  },
  {
   "cell_type": "code",
   "execution_count": 4,
   "id": "728c29b2-6f32-4f56-b5d1-c9c535c588a2",
   "metadata": {},
   "outputs": [],
   "source": [
    "chars = sorted(list(set(''.join(text))))\n",
    "vocab_size = len(chars)"
   ]
  },
  {
   "cell_type": "code",
   "execution_count": 5,
   "id": "2bcb6ac0-f5ed-4e98-aca1-068586572d27",
   "metadata": {},
   "outputs": [
    {
     "data": {
      "text/plain": [
       "94"
      ]
     },
     "execution_count": 5,
     "metadata": {},
     "output_type": "execute_result"
    }
   ],
   "source": [
    "len(chars)"
   ]
  },
  {
   "cell_type": "code",
   "execution_count": 6,
   "id": "29936ee8-d920-40b5-9d4f-1f2be046e7ed",
   "metadata": {},
   "outputs": [],
   "source": [
    "stoi = {s:i for i, s in enumerate(chars)}\n",
    "itos = {i:s for s, i in stoi.items()}\n",
    "\n",
    "encode = lambda s: [stoi[c] for c in s]\n",
    "decode = lambda l: ''.join(itos[i] for i in l)"
   ]
  },
  {
   "cell_type": "code",
   "execution_count": 69,
   "id": "3146fbf9-37a9-45bc-b9d1-0c37bb0a9b5f",
   "metadata": {},
   "outputs": [
    {
     "name": "stdout",
     "output_type": "stream",
     "text": [
      "device cuda\n"
     ]
    }
   ],
   "source": [
    "device = 'cuda' if torch.cuda.is_available() else 'cpu'\n",
    "print('device', device)"
   ]
  },
  {
   "cell_type": "code",
   "execution_count": 70,
   "id": "314f27da-502a-44cf-9ba9-7f6980ad9d38",
   "metadata": {},
   "outputs": [],
   "source": [
    "data = torch.tensor(encode(text), dtype=torch.long, device=device)"
   ]
  },
  {
   "cell_type": "code",
   "execution_count": 71,
   "id": "9c37bd3a-7f39-497e-a9df-03a9aa701853",
   "metadata": {},
   "outputs": [
    {
     "name": "stdout",
     "output_type": "stream",
     "text": [
      "torch.Size([217139351])\n"
     ]
    }
   ],
   "source": [
    "print(data.shape)"
   ]
  },
  {
   "cell_type": "code",
   "execution_count": 72,
   "id": "1dfa66c9-ba1d-4715-88f3-7a0e2ea203a1",
   "metadata": {},
   "outputs": [],
   "source": [
    "n = int(0.9 * len(data))\n",
    "train_data = data[:n]\n",
    "val_data = data[n:]"
   ]
  },
  {
   "cell_type": "code",
   "execution_count": 73,
   "id": "be52a19f-cad3-4f77-971c-5536a252429c",
   "metadata": {},
   "outputs": [],
   "source": [
    "block_size = 8\n",
    "batch_size = 4\n",
    "embed_dim = 32\n",
    "learning_rate = 1e-3\n",
    "max_iters = 10000\n",
    "eval_interval = 1000\n",
    "eval_iters = 1000"
   ]
  },
  {
   "cell_type": "code",
   "execution_count": 76,
   "id": "6af6de41-8a3b-4aa7-b1a0-f0fbf85c7eff",
   "metadata": {},
   "outputs": [],
   "source": [
    "def get_batch(split):\n",
    "    data = {\n",
    "        'train': train_data,\n",
    "        'val': val_data}[split]\n",
    "\n",
    "    ix = torch.randint(0, len(data) - block_size, (batch_size,))\n",
    "    x = torch.stack([data[i:i+block_size] for i in ix])\n",
    "    y = torch.stack([data[i+1:i+block_size+1] for i in ix])\n",
    "\n",
    "    x, y = x.to(device), y.to(device)\n",
    "\n",
    "    return x, y"
   ]
  },
  {
   "cell_type": "code",
   "execution_count": 77,
   "id": "2e2766e8-7926-43f3-94f1-b52a0ade261a",
   "metadata": {},
   "outputs": [],
   "source": [
    "class AttentionHead(nn.Module):\n",
    "    def __init__(self, head_size):\n",
    "        super().__init__()\n",
    "        \n",
    "        self.linear_v = nn.Linear(embed_dim, head_size)\n",
    "        self.linear_k = nn.Linear(embed_dim, head_size)\n",
    "        self.linear_q = nn.Linear(embed_dim, head_size)\n",
    "        self.register_buffer('tril', torch.tril(torch.ones(block_size, block_size)))\n",
    "\n",
    "    def forward(self, inp):\n",
    "        batch_dim, time_dim, channels = inp.shape\n",
    "        \n",
    "        values = self.linear_v(inp)\n",
    "        keys = self.linear_k(inp)\n",
    "        queries = self.linear_q(inp)\n",
    "\n",
    "        W = keys @ queries.transpose(-2, -1) * channels**-0.5 # (batch_dim, time_dim, time_dim)\n",
    "        W = W.masked_fill(self.tril[:time_dim, :time_dim] == 0, float('-inf'))\n",
    "        W = F.softmax(W, dim=-1)\n",
    "\n",
    "        out = W @ values\n",
    "\n",
    "        return out\n",
    "\n",
    "class MultiHeadAttention(nn.Module):\n",
    "    def __init__(self, num_heads, head_size):\n",
    "        super().__init__()\n",
    "        self.heads = nn.ModuleList([AttentionHead(head_size) for _ in range(num_heads)])\n",
    "\n",
    "    def forward(self, x):\n",
    "        return torch.cat([h(x) for h in self.heads], dim=-1)\n",
    "\n",
    "class LanguageModel(nn.Module):\n",
    "    def __init__(self):\n",
    "        super().__init__()\n",
    "        self.token_embedding = nn.Embedding(vocab_size, embed_dim)\n",
    "        self.pos_embedding = nn.Embedding(block_size, embed_dim)\n",
    "        self.mh_attention = MultiHeadAttention(4, embed_dim//4)\n",
    "        self.lm_head = nn.Linear(embed_dim, vocab_size)\n",
    "\n",
    "    def forward(self, inp, targets=None):\n",
    "        batch_dim, time_dim = inp.shape\n",
    "        \n",
    "        token_emb = self.token_embedding(inp)\n",
    "        pos_emb = self.pos_embedding(torch.arange(time_dim, device=device))\n",
    "\n",
    "        x = token_emb + pos_emb\n",
    "        x = self.mh_attention(x)\n",
    "        x = self.lm_head(x)\n",
    "        \n",
    "        logits = x\n",
    "\n",
    "        batch_dim, time_dim, channels = logits.shape\n",
    "\n",
    "        if targets is None:\n",
    "            loss = None\n",
    "        else:\n",
    "            logits = logits.view(batch_dim * time_dim, channels)\n",
    "            targets = targets.view(batch_dim * time_dim)\n",
    "            loss = F.cross_entropy(logits, targets)\n",
    "\n",
    "        return logits, loss\n",
    "\n",
    "    def generate(self, context, max_new_tokens):\n",
    "        for i in range(max_new_tokens):\n",
    "            context_cur = context[:, -block_size:]\n",
    "            \n",
    "            logits, loss = self(context_cur)\n",
    "\n",
    "            logits = logits[:, -1, :]\n",
    "            probs = F.softmax(logits, dim=-1)\n",
    "\n",
    "            new_tokens = torch.multinomial(probs, 1)\n",
    "\n",
    "            context = torch.cat([context, new_tokens], dim=-1)\n",
    "\n",
    "        return context"
   ]
  },
  {
   "cell_type": "code",
   "execution_count": 78,
   "id": "63a9afaa-bfff-428b-9a2a-43acf105658c",
   "metadata": {},
   "outputs": [],
   "source": [
    "model = LanguageModel()\n",
    "optimizer = torch.optim.AdamW(model.parameters(), lr=learning_rate)\n",
    "\n",
    "model = model.to(device)"
   ]
  },
  {
   "cell_type": "code",
   "execution_count": 79,
   "id": "91c38bc7-047c-4501-adde-abb07644f736",
   "metadata": {},
   "outputs": [],
   "source": [
    "@torch.no_grad()\n",
    "def eval_loss(split):\n",
    "    losses = torch.zeros(eval_iters)\n",
    "    for i in range(eval_iters):\n",
    "        xb, yb = get_batch(split)\n",
    "\n",
    "        logits, loss = model(xb, yb)\n",
    "        losses[i] = loss.item()\n",
    "    \n",
    "    return losses.mean()"
   ]
  },
  {
   "cell_type": "code",
   "execution_count": 81,
   "id": "36cedd25-868d-4382-bbec-4b738498b30c",
   "metadata": {},
   "outputs": [
    {
     "name": "stdout",
     "output_type": "stream",
     "text": [
      "step    0: train loss: 2.51936150, val_loss: 2.56655025\n",
      "step 1000: train loss: 2.52138734, val_loss: 2.52885938\n",
      "step 2000: train loss: 2.51470828, val_loss: 2.54816771\n",
      "step 3000: train loss: 2.49702477, val_loss: 2.53768897\n",
      "step 4000: train loss: 2.50927305, val_loss: 2.53753662\n",
      "step 5000: train loss: 2.49081945, val_loss: 2.52588487\n",
      "step 6000: train loss: 2.48957467, val_loss: 2.53446460\n",
      "step 7000: train loss: 2.49260592, val_loss: 2.50492382\n",
      "step 8000: train loss: 2.47836637, val_loss: 2.48876524\n",
      "step 9000: train loss: 2.47484756, val_loss: 2.52769494\n"
     ]
    }
   ],
   "source": [
    "for steps in range(max_iters):\n",
    "    if steps % eval_interval == 0:\n",
    "        print(f\"step {steps:4d}: train loss: {eval_loss('train'):.8f}, val_loss: {eval_loss('val'):.8f}\")\n",
    "    \n",
    "    xb, yb = get_batch('train')\n",
    "    \n",
    "    logits, loss = model(xb, yb)\n",
    "    optimizer.zero_grad(set_to_none=True)\n",
    "    loss.backward()\n",
    "    optimizer.step()"
   ]
  },
  {
   "cell_type": "code",
   "execution_count": 82,
   "id": "81f5adeb-9386-488a-909d-8a5b7428169c",
   "metadata": {},
   "outputs": [
    {
     "data": {
      "text/plain": [
       "tensor(2.5036)"
      ]
     },
     "execution_count": 82,
     "metadata": {},
     "output_type": "execute_result"
    }
   ],
   "source": [
    "eval_loss('val')"
   ]
  },
  {
   "cell_type": "code",
   "execution_count": 83,
   "id": "4d402946-8044-4f1d-8d0e-bc97fd4ec798",
   "metadata": {},
   "outputs": [
    {
     "ename": "RuntimeError",
     "evalue": "The size of tensor a (2) must match the size of tensor b (8) at non-singleton dimension 1",
     "output_type": "error",
     "traceback": [
      "\u001b[0;31m---------------------------------------------------------------------------\u001b[0m",
      "\u001b[0;31mRuntimeError\u001b[0m                              Traceback (most recent call last)",
      "Cell \u001b[0;32mIn[83], line 2\u001b[0m\n\u001b[1;32m      1\u001b[0m context \u001b[38;5;241m=\u001b[39m torch\u001b[38;5;241m.\u001b[39mtensor([[\u001b[38;5;241m0\u001b[39m]], device\u001b[38;5;241m=\u001b[39mdevice)\n\u001b[0;32m----> 2\u001b[0m context \u001b[38;5;241m=\u001b[39m \u001b[43mmodel\u001b[49m\u001b[38;5;241;43m.\u001b[39;49m\u001b[43mgenerate\u001b[49m\u001b[43m(\u001b[49m\u001b[43mcontext\u001b[49m\u001b[43m,\u001b[49m\u001b[43m \u001b[49m\u001b[38;5;241;43m200\u001b[39;49m\u001b[43m)\u001b[49m\n\u001b[1;32m      3\u001b[0m context \u001b[38;5;241m=\u001b[39m context\u001b[38;5;241m.\u001b[39mview(\u001b[38;5;241m-\u001b[39m\u001b[38;5;241m1\u001b[39m)\u001b[38;5;241m.\u001b[39mtolist()\n\u001b[1;32m      4\u001b[0m \u001b[38;5;28mprint\u001b[39m(decode(context))\n",
      "Cell \u001b[0;32mIn[77], line 66\u001b[0m, in \u001b[0;36mLanguageModel.generate\u001b[0;34m(self, context, max_new_tokens)\u001b[0m\n\u001b[1;32m     63\u001b[0m \u001b[38;5;28;01mfor\u001b[39;00m i \u001b[38;5;129;01min\u001b[39;00m \u001b[38;5;28mrange\u001b[39m(max_new_tokens):\n\u001b[1;32m     64\u001b[0m     context_cur \u001b[38;5;241m=\u001b[39m context[:, \u001b[38;5;241m-\u001b[39mblock_size:]\n\u001b[0;32m---> 66\u001b[0m     logits, loss \u001b[38;5;241m=\u001b[39m \u001b[38;5;28;43mself\u001b[39;49m\u001b[43m(\u001b[49m\u001b[43mcontext_cur\u001b[49m\u001b[43m)\u001b[49m\n\u001b[1;32m     68\u001b[0m     logits \u001b[38;5;241m=\u001b[39m logits[:, \u001b[38;5;241m-\u001b[39m\u001b[38;5;241m1\u001b[39m, :]\n\u001b[1;32m     69\u001b[0m     probs \u001b[38;5;241m=\u001b[39m F\u001b[38;5;241m.\u001b[39msoftmax(logits, dim\u001b[38;5;241m=\u001b[39m\u001b[38;5;241m-\u001b[39m\u001b[38;5;241m1\u001b[39m)\n",
      "File \u001b[0;32m~/.local/lib/python3.10/site-packages/torch/nn/modules/module.py:1501\u001b[0m, in \u001b[0;36mModule._call_impl\u001b[0;34m(self, *args, **kwargs)\u001b[0m\n\u001b[1;32m   1496\u001b[0m \u001b[38;5;66;03m# If we don't have any hooks, we want to skip the rest of the logic in\u001b[39;00m\n\u001b[1;32m   1497\u001b[0m \u001b[38;5;66;03m# this function, and just call forward.\u001b[39;00m\n\u001b[1;32m   1498\u001b[0m \u001b[38;5;28;01mif\u001b[39;00m \u001b[38;5;129;01mnot\u001b[39;00m (\u001b[38;5;28mself\u001b[39m\u001b[38;5;241m.\u001b[39m_backward_hooks \u001b[38;5;129;01mor\u001b[39;00m \u001b[38;5;28mself\u001b[39m\u001b[38;5;241m.\u001b[39m_backward_pre_hooks \u001b[38;5;129;01mor\u001b[39;00m \u001b[38;5;28mself\u001b[39m\u001b[38;5;241m.\u001b[39m_forward_hooks \u001b[38;5;129;01mor\u001b[39;00m \u001b[38;5;28mself\u001b[39m\u001b[38;5;241m.\u001b[39m_forward_pre_hooks\n\u001b[1;32m   1499\u001b[0m         \u001b[38;5;129;01mor\u001b[39;00m _global_backward_pre_hooks \u001b[38;5;129;01mor\u001b[39;00m _global_backward_hooks\n\u001b[1;32m   1500\u001b[0m         \u001b[38;5;129;01mor\u001b[39;00m _global_forward_hooks \u001b[38;5;129;01mor\u001b[39;00m _global_forward_pre_hooks):\n\u001b[0;32m-> 1501\u001b[0m     \u001b[38;5;28;01mreturn\u001b[39;00m \u001b[43mforward_call\u001b[49m\u001b[43m(\u001b[49m\u001b[38;5;241;43m*\u001b[39;49m\u001b[43margs\u001b[49m\u001b[43m,\u001b[49m\u001b[43m \u001b[49m\u001b[38;5;241;43m*\u001b[39;49m\u001b[38;5;241;43m*\u001b[39;49m\u001b[43mkwargs\u001b[49m\u001b[43m)\u001b[49m\n\u001b[1;32m   1502\u001b[0m \u001b[38;5;66;03m# Do not call functions when jit is used\u001b[39;00m\n\u001b[1;32m   1503\u001b[0m full_backward_hooks, non_full_backward_hooks \u001b[38;5;241m=\u001b[39m [], []\n",
      "Cell \u001b[0;32mIn[77], line 45\u001b[0m, in \u001b[0;36mLanguageModel.forward\u001b[0;34m(self, inp, targets)\u001b[0m\n\u001b[1;32m     42\u001b[0m token_emb \u001b[38;5;241m=\u001b[39m \u001b[38;5;28mself\u001b[39m\u001b[38;5;241m.\u001b[39mtoken_embedding(inp)\n\u001b[1;32m     43\u001b[0m pos_emb \u001b[38;5;241m=\u001b[39m \u001b[38;5;28mself\u001b[39m\u001b[38;5;241m.\u001b[39mpos_embedding(torch\u001b[38;5;241m.\u001b[39marange(block_size, device\u001b[38;5;241m=\u001b[39mdevice))\n\u001b[0;32m---> 45\u001b[0m x \u001b[38;5;241m=\u001b[39m \u001b[43mtoken_emb\u001b[49m\u001b[43m \u001b[49m\u001b[38;5;241;43m+\u001b[39;49m\u001b[43m \u001b[49m\u001b[43mpos_emb\u001b[49m\n\u001b[1;32m     46\u001b[0m x \u001b[38;5;241m=\u001b[39m \u001b[38;5;28mself\u001b[39m\u001b[38;5;241m.\u001b[39mmh_attention(x)\n\u001b[1;32m     47\u001b[0m x \u001b[38;5;241m=\u001b[39m \u001b[38;5;28mself\u001b[39m\u001b[38;5;241m.\u001b[39mlm_head(x)\n",
      "\u001b[0;31mRuntimeError\u001b[0m: The size of tensor a (2) must match the size of tensor b (8) at non-singleton dimension 1"
     ]
    }
   ],
   "source": [
    "context = torch.tensor([[0]], device=device)\n",
    "context = model.generate(context, 200)\n",
    "context = context.view(-1).tolist()\n",
    "print(decode(context))"
   ]
  },
  {
   "cell_type": "code",
   "execution_count": 66,
   "id": "8ea3202a-b2e1-4dbd-b747-80d6286a73cc",
   "metadata": {},
   "outputs": [
    {
     "name": "stdout",
     "output_type": "stream",
     "text": [
      "True\n"
     ]
    }
   ],
   "source": [
    "print(torch.cuda.is_available())"
   ]
  },
  {
   "cell_type": "code",
   "execution_count": null,
   "id": "d8279cb3-c119-4ea4-b745-c5af0089b3c2",
   "metadata": {},
   "outputs": [],
   "source": []
  }
 ],
 "metadata": {
  "kernelspec": {
   "display_name": "Python 3 (ipykernel)",
   "language": "python",
   "name": "python3"
  },
  "language_info": {
   "codemirror_mode": {
    "name": "ipython",
    "version": 3
   },
   "file_extension": ".py",
   "mimetype": "text/x-python",
   "name": "python",
   "nbconvert_exporter": "python",
   "pygments_lexer": "ipython3",
   "version": "3.10.12"
  }
 },
 "nbformat": 4,
 "nbformat_minor": 5
}
