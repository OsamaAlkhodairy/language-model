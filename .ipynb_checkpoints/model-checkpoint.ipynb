{
 "cells": [
  {
   "cell_type": "code",
   "execution_count": 27,
   "id": "ba1b23a2-abf1-4326-8146-ff7ad316f624",
   "metadata": {},
   "outputs": [],
   "source": [
    "import torch\n",
    "import torch.nn as nn\n",
    "from torch.nn import functional as F"
   ]
  },
  {
   "cell_type": "code",
   "execution_count": 28,
   "id": "239a3f71-2786-40db-9cff-dafbfd2e0ab5",
   "metadata": {},
   "outputs": [],
   "source": [
    "with open('input.txt', 'r') as f:\n",
    "    text = f.read()\n"
   ]
  },
  {
   "cell_type": "code",
   "execution_count": 29,
   "id": "bf7fc505-46a5-403b-bea4-75e15c94c1ab",
   "metadata": {},
   "outputs": [
    {
     "name": "stdout",
     "output_type": "stream",
     "text": [
      "217779251\n",
      "\n",
      "\n",
      "April\n",
      "April is the fourth month of the year in the Julian and Gregorian calendars, and comes betwe\n"
     ]
    }
   ],
   "source": [
    "print(len(text))\n",
    "print(text[:100])"
   ]
  },
  {
   "cell_type": "code",
   "execution_count": 30,
   "id": "728c29b2-6f32-4f56-b5d1-c9c535c588a2",
   "metadata": {},
   "outputs": [],
   "source": [
    "chars = sorted(list(set(''.join(text))))\n",
    "vocab_size = len(chars)"
   ]
  },
  {
   "cell_type": "code",
   "execution_count": 31,
   "id": "2bcb6ac0-f5ed-4e98-aca1-068586572d27",
   "metadata": {},
   "outputs": [
    {
     "data": {
      "text/plain": [
       "94"
      ]
     },
     "execution_count": 31,
     "metadata": {},
     "output_type": "execute_result"
    }
   ],
   "source": [
    "len(chars)"
   ]
  },
  {
   "cell_type": "code",
   "execution_count": 51,
   "id": "29936ee8-d920-40b5-9d4f-1f2be046e7ed",
   "metadata": {},
   "outputs": [],
   "source": [
    "stoi = {s:i for i, s in enumerate(chars)}\n",
    "itos = {i:s for s, i in stoi.items()}\n",
    "\n",
    "encode = lambda s: [stoi[c] for c in s]\n",
    "decode = lambda l: ''.join(itos[i] for i in l)"
   ]
  },
  {
   "cell_type": "code",
   "execution_count": 33,
   "id": "314f27da-502a-44cf-9ba9-7f6980ad9d38",
   "metadata": {},
   "outputs": [],
   "source": [
    "data = torch.tensor(encode(text), dtype=torch.long)"
   ]
  },
  {
   "cell_type": "code",
   "execution_count": 34,
   "id": "9c37bd3a-7f39-497e-a9df-03a9aa701853",
   "metadata": {},
   "outputs": [
    {
     "name": "stdout",
     "output_type": "stream",
     "text": [
      "torch.Size([217779251])\n"
     ]
    }
   ],
   "source": [
    "print(data.shape)"
   ]
  },
  {
   "cell_type": "code",
   "execution_count": 35,
   "id": "1dfa66c9-ba1d-4715-88f3-7a0e2ea203a1",
   "metadata": {},
   "outputs": [],
   "source": [
    "n = int(0.9 * len(data))\n",
    "train_data = data[:n]\n",
    "val_data = data[n:]"
   ]
  },
  {
   "cell_type": "code",
   "execution_count": 36,
   "id": "be52a19f-cad3-4f77-971c-5536a252429c",
   "metadata": {},
   "outputs": [],
   "source": [
    "block_size = 8\n",
    "batch_size = 4\n",
    "embed_dim = 32\n",
    "learning_rate = 1e-3\n",
    "max_iters = 10000\n",
    "eval_interval = 1000\n",
    "eval_iters = 1000"
   ]
  },
  {
   "cell_type": "code",
   "execution_count": 37,
   "id": "6af6de41-8a3b-4aa7-b1a0-f0fbf85c7eff",
   "metadata": {},
   "outputs": [],
   "source": [
    "def get_batch(split):\n",
    "    data = {\n",
    "        'train': train_data,\n",
    "        'val': val_data}[split]\n",
    "\n",
    "    ix = torch.randint(0, len(data) - block_size, (batch_size,))\n",
    "    x = torch.stack([data[i:i+block_size] for i in ix])\n",
    "    y = torch.stack([data[i+1:i+block_size+1] for i in ix])\n",
    "\n",
    "    return x, y"
   ]
  },
  {
   "cell_type": "code",
   "execution_count": 65,
   "id": "2e2766e8-7926-43f3-94f1-b52a0ade261a",
   "metadata": {},
   "outputs": [],
   "source": [
    "class LanguageModel(nn.Module):\n",
    "    def __init__(self):\n",
    "        super().__init__()\n",
    "        self.token_embedding = nn.Embedding(vocab_size, embed_dim)\n",
    "        self.lm_head = nn.Linear(embed_dim, vocab_size)\n",
    "\n",
    "    def forward(self, inp, targets=None):\n",
    "        token_emb = self.token_embedding(inp)\n",
    "\n",
    "        x = self.lm_head(token_emb)\n",
    "        \n",
    "        logits = x\n",
    "\n",
    "        batch_dim, time_dim, features = logits.shape\n",
    "        logits = logits.view(batch_dim * time_dim, features)\n",
    "\n",
    "        if targets is None:\n",
    "            loss = None\n",
    "        else:\n",
    "            targets = targets.view(batch_dim * time_dim)\n",
    "            loss = F.cross_entropy(logits, targets)\n",
    "\n",
    "        return logits, loss\n",
    "\n",
    "    def generate(self, context, max_new_tokens):\n",
    "        for i in range(max_new_tokens):\n",
    "            context_cur = context[:, -1:]\n",
    "            \n",
    "            logits, loss = self(context_cur)\n",
    "            probs = F.softmax(logits, dim=-1)\n",
    "\n",
    "            new_tokens = torch.multinomial(probs, 1)\n",
    "\n",
    "            context = torch.cat([context_cur, new_tokens], dim=-1)\n",
    "\n",
    "        return context"
   ]
  },
  {
   "cell_type": "code",
   "execution_count": 66,
   "id": "63a9afaa-bfff-428b-9a2a-43acf105658c",
   "metadata": {},
   "outputs": [],
   "source": [
    "model = LanguageModel()\n",
    "optimizer = torch.optim.AdamW(model.parameters(), lr=learning_rate)"
   ]
  },
  {
   "cell_type": "code",
   "execution_count": 67,
   "id": "91c38bc7-047c-4501-adde-abb07644f736",
   "metadata": {},
   "outputs": [],
   "source": [
    "@torch.no_grad()\n",
    "def eval_loss(split):\n",
    "    losses = torch.zeros(eval_iters)\n",
    "    for i in range(eval_iters):\n",
    "        xb, yb = get_batch(split)\n",
    "\n",
    "        logits, loss = model(xb, yb)\n",
    "        losses[i] = loss.item()\n",
    "    \n",
    "    return losses.mean()"
   ]
  },
  {
   "cell_type": "code",
   "execution_count": 68,
   "id": "36cedd25-868d-4382-bbec-4b738498b30c",
   "metadata": {},
   "outputs": [
    {
     "name": "stdout",
     "output_type": "stream",
     "text": [
      "step    0: train loss: 4.64820433, val_loss: 4.64072752\n",
      "step 1000: train loss: 2.87567997, val_loss: 2.91412330\n",
      "step 2000: train loss: 2.75355339, val_loss: 2.77404761\n",
      "step 3000: train loss: 2.68470812, val_loss: 2.72870922\n",
      "step 4000: train loss: 2.67873430, val_loss: 2.71961594\n",
      "step 5000: train loss: 2.66857076, val_loss: 2.69368982\n",
      "step 6000: train loss: 2.64850140, val_loss: 2.67828488\n",
      "step 7000: train loss: 2.65526509, val_loss: 2.67901921\n",
      "step 8000: train loss: 2.66009951, val_loss: 2.66616344\n",
      "step 9000: train loss: 2.64532828, val_loss: 2.66762018\n"
     ]
    }
   ],
   "source": [
    "for steps in range(max_iters):\n",
    "    if steps % eval_interval == 0:\n",
    "        print(f\"step {steps:4d}: train loss: {eval_loss('train'):.8f}, val_loss: {eval_loss('val'):.8f}\")\n",
    "    \n",
    "    xb, yb = get_batch('train')\n",
    "    \n",
    "    logits, loss = model(xb, yb)\n",
    "    optimizer.zero_grad(set_to_none=True)\n",
    "    loss.backward()\n",
    "    optimizer.step()"
   ]
  },
  {
   "cell_type": "code",
   "execution_count": 69,
   "id": "81f5adeb-9386-488a-909d-8a5b7428169c",
   "metadata": {},
   "outputs": [
    {
     "data": {
      "text/plain": [
       "tensor(2.6572)"
      ]
     },
     "execution_count": 69,
     "metadata": {},
     "output_type": "execute_result"
    }
   ],
   "source": [
    "eval_loss('val')"
   ]
  },
  {
   "cell_type": "code",
   "execution_count": 70,
   "id": "4d402946-8044-4f1d-8d0e-bc97fd4ec798",
   "metadata": {},
   "outputs": [],
   "source": [
    "context = torch.tensor([[0]])\n",
    "print(model.generate(context, 200))"
   ]
  },
  {
   "cell_type": "code",
   "execution_count": null,
   "id": "8ea3202a-b2e1-4dbd-b747-80d6286a73cc",
   "metadata": {},
   "outputs": [],
   "source": []
  }
 ],
 "metadata": {
  "kernelspec": {
   "display_name": "Python 3 (ipykernel)",
   "language": "python",
   "name": "python3"
  },
  "language_info": {
   "codemirror_mode": {
    "name": "ipython",
    "version": 3
   },
   "file_extension": ".py",
   "mimetype": "text/x-python",
   "name": "python",
   "nbconvert_exporter": "python",
   "pygments_lexer": "ipython3",
   "version": "3.10.6"
  }
 },
 "nbformat": 4,
 "nbformat_minor": 5
}
